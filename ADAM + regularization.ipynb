{
 "cells": [
  {
   "cell_type": "code",
   "execution_count": 139,
   "id": "d1551a62",
   "metadata": {},
   "outputs": [],
   "source": [
    "import numpy as np\n",
    "import pandas as pd\n",
    "import matplotlib.pyplot as plt\n",
    "import torch "
   ]
  },
  {
   "cell_type": "code",
   "execution_count": 140,
   "id": "5b8eb49e",
   "metadata": {},
   "outputs": [
    {
     "name": "stdout",
     "output_type": "stream",
     "text": [
      "1.11.0\n"
     ]
    }
   ],
   "source": [
    "print(torch.__version__)"
   ]
  },
  {
   "cell_type": "code",
   "execution_count": 141,
   "id": "ebf4e954",
   "metadata": {},
   "outputs": [
    {
     "name": "stdout",
     "output_type": "stream",
     "text": [
      "tensor([[0., 5., 2.,  ..., 0., 0., 0.],\n",
      "        [5., 0., 8.,  ..., 0., 0., 0.],\n",
      "        [2., 8., 0.,  ..., 0., 0., 0.],\n",
      "        ...,\n",
      "        [0., 0., 0.,  ..., 0., 0., 0.],\n",
      "        [0., 0., 0.,  ..., 0., 0., 3.],\n",
      "        [0., 0., 0.,  ..., 0., 3., 0.]])\n"
     ]
    }
   ],
   "source": [
    "data = pd.read_csv('triplets_all.csv')\n",
    "N = 878\n",
    "J = torch.zeros((N, N))\n",
    "for i in range(data.shape[0]):\n",
    "    a, b = map(int, data.ids[i].split('_'))\n",
    "    c = int(data.intersize[i])\n",
    "    if a != b:\n",
    "        J[a][b] = c\n",
    "        J[b][a] = c\n",
    "print(J)"
   ]
  },
  {
   "cell_type": "code",
   "execution_count": 142,
   "id": "8476de39",
   "metadata": {},
   "outputs": [
    {
     "data": {
      "image/png": "[encoded data removed]",
      "text/plain": [
       "<Figure size 576x216 with 1 Axes>"
      ]
     },
     "metadata": {
      "needs_background": "light"
     },
     "output_type": "display_data"
    }
   ],
   "source": [
    "plt.figure(figsize=(8,3))\n",
    "plt.plot([-1, 0, 0.5, 1, 2], [1, 0, 0.5, 0, 1], label = \"|x| + |x - 1| - |x - 0.5| - 0.5\")\n",
    "\n",
    "plt.gca().spines['left'].set_position(\"zero\")\n",
    "plt.gca().spines['bottom'].set_position(\"zero\")\n",
    "\n",
    "plt.gca().spines['right'].set_color('none')\n",
    "plt.gca().spines['top'].set_color('none')\n",
    "\n",
    "plt.gca().xaxis.set_ticks_position('bottom')\n",
    "plt.gca().yaxis.set_ticks_position('left')\n",
    "\n",
    "plt.legend(loc = \"upper right\")\n",
    "plt.show()"
   ]
  },
  {
   "cell_type": "code",
   "execution_count": 143,
   "id": "5c3c8271",
   "metadata": {},
   "outputs": [],
   "source": [
    "p = torch.zeros((N, N))\n",
    "for i in range(N):\n",
    "    for j in range(N):\n",
    "        if i != j:\n",
    "            p[i][j] = 1"
   ]
  },
  {
   "cell_type": "code",
   "execution_count": 201,
   "id": "bbf03a0b",
   "metadata": {},
   "outputs": [],
   "source": [
    "def custom_loss(G, J, reduction=\"sum\", l=0):\n",
    "    reg = (torch.abs(G) + torch.abs(G - 1) - torch.abs(G - 0.5) - 0.5).sum()\n",
    "    sum = torch.nn.L1Loss(reduction=reduction)(torch.matmul(G, G.T) * p, J)\n",
    "    return sum + reg * l\n",
    "def AE(G, J):\n",
    "    G_bin = (G > 0.5).float()\n",
    "    return torch.nn.L1Loss(reduction=\"sum\")(torch.matmul(G_bin, G_bin.T) * p, J)"
   ]
  },
  {
   "cell_type": "code",
   "execution_count": 202,
   "id": "2ed041a1",
   "metadata": {},
   "outputs": [],
   "source": [
    "n = 100\n",
    "G = torch.zeros((N, n))\n",
    "for i in range(N):\n",
    "    for j in range(n):\n",
    "        G[i][j] = np.random.rand()\n",
    "G = (G > 0.18).float()\n",
    "G.requires_grad = True"
   ]
  },
  {
   "cell_type": "code",
   "execution_count": 203,
   "id": "a3fd5998",
   "metadata": {},
   "outputs": [],
   "source": [
    "optimizer = torch.optim.Adam([G], lr=0.0002)"
   ]
  },
  {
   "cell_type": "code",
   "execution_count": 206,
   "id": "d034967c",
   "metadata": {},
   "outputs": [
    {
     "name": "stdout",
     "output_type": "stream",
     "text": [
      "3189098.0\n",
      "3075620.0\n",
      "2974674.0\n",
      "2875252.0\n",
      "2783384.0\n",
      "2703758.0\n",
      "2622798.0\n",
      "2557940.0\n",
      "2496964.0\n",
      "2436744.0\n",
      "2392100.0\n",
      "2346714.0\n",
      "2307270.0\n",
      "2271834.0\n",
      "2237636.0\n",
      "2204842.0\n",
      "2172224.0\n",
      "2146222.0\n",
      "2124122.0\n",
      "2105304.0\n",
      "2088716.0\n",
      "2072540.0\n",
      "2061328.0\n",
      "2054580.0\n",
      "2054198.0\n",
      "2050572.0\n",
      "2046766.0\n",
      "2042610.0\n",
      "2041320.0\n",
      "2042000.0\n",
      "2039996.0\n",
      "2041812.0\n",
      "2045844.0\n",
      "2051422.0\n",
      "2061802.0\n",
      "2071980.0\n",
      "2090082.0\n",
      "2103644.0\n",
      "2114532.0\n"
     ]
    },
    {
     "ename": "KeyboardInterrupt",
     "evalue": "",
     "output_type": "error",
     "traceback": [
      "\u001b[0;31m---------------------------------------------------------------------------\u001b[0m",
      "\u001b[0;31mKeyboardInterrupt\u001b[0m                         Traceback (most recent call last)",
      "\u001b[0;32m/tmp/ipykernel_361251/1716954607.py\u001b[0m in \u001b[0;36m<module>\u001b[0;34m\u001b[0m\n\u001b[1;32m      2\u001b[0m     \u001b[0moptimizer\u001b[0m\u001b[0;34m.\u001b[0m\u001b[0mzero_grad\u001b[0m\u001b[0;34m(\u001b[0m\u001b[0;34m)\u001b[0m\u001b[0;34m\u001b[0m\u001b[0;34m\u001b[0m\u001b[0m\n\u001b[1;32m      3\u001b[0m     \u001b[0mloss\u001b[0m \u001b[0;34m=\u001b[0m \u001b[0mcustom_loss\u001b[0m\u001b[0;34m(\u001b[0m\u001b[0mG\u001b[0m\u001b[0;34m,\u001b[0m \u001b[0mJ\u001b[0m\u001b[0;34m)\u001b[0m\u001b[0;34m\u001b[0m\u001b[0;34m\u001b[0m\u001b[0m\n\u001b[0;32m----> 4\u001b[0;31m     \u001b[0mloss\u001b[0m\u001b[0;34m.\u001b[0m\u001b[0mbackward\u001b[0m\u001b[0;34m(\u001b[0m\u001b[0;34m)\u001b[0m\u001b[0;34m\u001b[0m\u001b[0;34m\u001b[0m\u001b[0m\n\u001b[0m\u001b[1;32m      5\u001b[0m     \u001b[0moptimizer\u001b[0m\u001b[0;34m.\u001b[0m\u001b[0mstep\u001b[0m\u001b[0;34m(\u001b[0m\u001b[0;34m)\u001b[0m\u001b[0;34m\u001b[0m\u001b[0;34m\u001b[0m\u001b[0m\n\u001b[1;32m      6\u001b[0m     \u001b[0;32mif\u001b[0m \u001b[0;34m(\u001b[0m\u001b[0mi\u001b[0m \u001b[0;34m%\u001b[0m \u001b[0;36m100\u001b[0m \u001b[0;34m==\u001b[0m \u001b[0;36m0\u001b[0m\u001b[0;34m)\u001b[0m\u001b[0;34m:\u001b[0m\u001b[0;34m\u001b[0m\u001b[0;34m\u001b[0m\u001b[0m\n",
      "\u001b[0;32m~/anaconda3/lib/python3.9/site-packages/torch/_tensor.py\u001b[0m in \u001b[0;36mbackward\u001b[0;34m(self, gradient, retain_graph, create_graph, inputs)\u001b[0m\n\u001b[1;32m    361\u001b[0m                 \u001b[0mcreate_graph\u001b[0m\u001b[0;34m=\u001b[0m\u001b[0mcreate_graph\u001b[0m\u001b[0;34m,\u001b[0m\u001b[0;34m\u001b[0m\u001b[0;34m\u001b[0m\u001b[0m\n\u001b[1;32m    362\u001b[0m                 inputs=inputs)\n\u001b[0;32m--> 363\u001b[0;31m         \u001b[0mtorch\u001b[0m\u001b[0;34m.\u001b[0m\u001b[0mautograd\u001b[0m\u001b[0;34m.\u001b[0m\u001b[0mbackward\u001b[0m\u001b[0;34m(\u001b[0m\u001b[0mself\u001b[0m\u001b[0;34m,\u001b[0m \u001b[0mgradient\u001b[0m\u001b[0;34m,\u001b[0m \u001b[0mretain_graph\u001b[0m\u001b[0;34m,\u001b[0m \u001b[0mcreate_graph\u001b[0m\u001b[0;34m,\u001b[0m \u001b[0minputs\u001b[0m\u001b[0;34m=\u001b[0m\u001b[0minputs\u001b[0m\u001b[0;34m)\u001b[0m\u001b[0;34m\u001b[0m\u001b[0;34m\u001b[0m\u001b[0m\n\u001b[0m\u001b[1;32m    364\u001b[0m \u001b[0;34m\u001b[0m\u001b[0m\n\u001b[1;32m    365\u001b[0m     \u001b[0;32mdef\u001b[0m \u001b[0mregister_hook\u001b[0m\u001b[0;34m(\u001b[0m\u001b[0mself\u001b[0m\u001b[0;34m,\u001b[0m \u001b[0mhook\u001b[0m\u001b[0;34m)\u001b[0m\u001b[0;34m:\u001b[0m\u001b[0;34m\u001b[0m\u001b[0;34m\u001b[0m\u001b[0m\n",
      "\u001b[0;32m~/anaconda3/lib/python3.9/site-packages/torch/autograd/__init__.py\u001b[0m in \u001b[0;36mbackward\u001b[0;34m(tensors, grad_tensors, retain_graph, create_graph, grad_variables, inputs)\u001b[0m\n\u001b[1;32m    171\u001b[0m     \u001b[0;31m# some Python versions print out the first line of a multi-line function\u001b[0m\u001b[0;34m\u001b[0m\u001b[0;34m\u001b[0m\u001b[0m\n\u001b[1;32m    172\u001b[0m     \u001b[0;31m# calls in the traceback and some print out the last line\u001b[0m\u001b[0;34m\u001b[0m\u001b[0;34m\u001b[0m\u001b[0m\n\u001b[0;32m--> 173\u001b[0;31m     Variable._execution_engine.run_backward(  # Calls into the C++ engine to run the backward pass\n\u001b[0m\u001b[1;32m    174\u001b[0m         \u001b[0mtensors\u001b[0m\u001b[0;34m,\u001b[0m \u001b[0mgrad_tensors_\u001b[0m\u001b[0;34m,\u001b[0m \u001b[0mretain_graph\u001b[0m\u001b[0;34m,\u001b[0m \u001b[0mcreate_graph\u001b[0m\u001b[0;34m,\u001b[0m \u001b[0minputs\u001b[0m\u001b[0;34m,\u001b[0m\u001b[0;34m\u001b[0m\u001b[0;34m\u001b[0m\u001b[0m\n\u001b[1;32m    175\u001b[0m         allow_unreachable=True, accumulate_grad=True)  # Calls into the C++ engine to run the backward pass\n",
      "\u001b[0;31mKeyboardInterrupt\u001b[0m: "
     ]
    }
   ],
   "source": [
    "for i in range(12001):\n",
    "    optimizer.zero_grad()\n",
    "    loss = custom_loss(G, J)\n",
    "    loss.backward()\n",
    "    optimizer.step()\n",
    "    if (i % 100 == 0):\n",
    "        print(float(AE(G, J)))"
   ]
  },
  {
   "cell_type": "code",
   "execution_count": null,
   "id": "40a46fae",
   "metadata": {},
   "outputs": [],
   "source": []
  }
 ],
 "metadata": {
  "kernelspec": {
   "display_name": "Python 3",
   "language": "python",
   "name": "python3"
  },
  "language_info": {
   "codemirror_mode": {
    "name": "ipython",
    "version": 3
   },
   "file_extension": ".py",
   "mimetype": "text/x-python",
   "name": "python",
   "nbconvert_exporter": "python",
   "pygments_lexer": "ipython3",
   "version": "3.8.8"
  }
 },
 "nbformat": 4,
 "nbformat_minor": 5
}
